{
 "cells": [
  {
   "cell_type": "code",
   "execution_count": 1,
   "metadata": {},
   "outputs": [],
   "source": [
    "import gymnasium as gym\n",
    "import torch\n",
    "import torch.nn as nn\n",
    "import torch.optim as optim\n",
    "import torch.nn.functional as F\n",
    "import random\n",
    "import numpy as np\n",
    "from model import DQN\n",
    "from replay_memory import ReplayMemory, Transition\n",
    "from collections import deque, namedtuple\n",
    "import matplotlib.pyplot as plt\n",
    "import plotly.express as px\n",
    "import pandas as pd\n",
    "import plotly.express as px\n",
    "from itertools import count"
   ]
  },
  {
   "cell_type": "markdown",
   "metadata": {},
   "source": []
  },
  {
   "cell_type": "code",
   "execution_count": 2,
   "metadata": {},
   "outputs": [
    {
     "name": "stdout",
     "output_type": "stream",
     "text": [
      "[ 0.01351848  0.0061649  -0.02056811 -0.01578395]\n"
     ]
    }
   ],
   "source": [
    "env = gym.make('CartPole-v1')\n",
    "observation, info = env.reset()\n",
    "print(observation)"
   ]
  },
  {
   "cell_type": "code",
   "execution_count": 3,
   "metadata": {},
   "outputs": [],
   "source": [
    "device = torch.device(\n",
    "    \"cuda\" if torch.cuda.is_available() else\n",
    "    \"mps\" if torch.backends.mps.is_available() else\n",
    "    \"cpu\"\n",
    ")\n",
    "device"
   ]
  },
  {
   "cell_type": "code",
   "execution_count": 4,
   "metadata": {},
   "outputs": [],
   "source": [
    "n_observation = env.observation_space.shape[0]\n",
    "n_action = env.action_space.n"
   ]
  },
  {
   "cell_type": "code",
   "execution_count": 5,
   "metadata": {},
   "outputs": [],
   "source": [
    "policy_net = DQN(n_observation, n_action).to(device)\n",
    "target_net = DQN(n_observation, n_action).to(device)\n",
    "target_net.load_state_dict(policy_net.state_dict())\n",
    "target_net.eval()\n",
    "memory = ReplayMemory(10000)"
   ]
  },
  {
   "cell_type": "code",
   "execution_count": 6,
   "metadata": {},
   "outputs": [],
   "source": [
    "EPS_START = 0.9\n",
    "EPS_END = 0.05\n",
    "EPS_DECAY = 1000\n",
    "BATCH_SIZE = 128\n",
    "GAMMA = 0.99\n",
    "LR = 1e-4\n",
    "TARGET_UPDATE = 10\n",
    "TAU = 0.005\n",
    "steps_done = 0\n",
    "\n",
    "optimizer = optim.Adam(policy_net.parameters(), lr=LR, amsgrad=True)\n",
    "num_episodes = 350"
   ]
  },
  {
   "cell_type": "code",
   "execution_count": 7,
   "metadata": {},
   "outputs": [],
   "source": [
    "def select_action(state):\n",
    "    global steps_done\n",
    "    \n",
    "    # eps threshold decreases as steps increase, making exploitation more likely\n",
    "    eps_threshold = EPS_END + (EPS_START - EPS_END) * np.exp(-1. * steps_done / EPS_DECAY)\n",
    "    steps_done += 1\n",
    "    if np.random.rand() > eps_threshold:\n",
    "        with torch.no_grad():\n",
    "            ret_val = policy_net(state).max(1).indices.view(1, 1)\n",
    "            # print(\"A. Returning Action Tensor on device: \", ret_val.device)\n",
    "            return ret_val\n",
    "    else:\n",
    "        ret_val = torch.tensor([[env.action_space.sample()]], device=device, dtype=torch.long)\n",
    "        # print(\"B. Returning Action Tensor on device: \", ret_val.device)\n",
    "        return ret_val"
   ]
  },
  {
   "cell_type": "code",
   "execution_count": 8,
   "metadata": {},
   "outputs": [],
   "source": [
    "def optimize_model(loss_func):\n",
    "    if len(memory) < BATCH_SIZE:\n",
    "        # if the memory is not enough, do nothing\n",
    "        return\n",
    "    \n",
    "    transitions = memory.sample(BATCH_SIZE)\n",
    "    batch = Transition(*zip(*transitions))\n",
    "    \n",
    "    state_batch = torch.cat(batch.state)\n",
    "    action_batch = torch.cat(batch.action)\n",
    "    reward_batch = torch.cat(batch.reward)\n",
    "    \n",
    "    # used to filter out states that precede terminal states\n",
    "    non_final_mask = torch.tensor([s is not None for s in batch.next_state], \n",
    "                                  device=device, dtype=torch.bool)\n",
    "    \n",
    "    # concatenate all non-final states into a single tensor\n",
    "    non_final_next_states = torch.cat([s for s in batch.next_state if s is not None])\n",
    "    \n",
    "    \n",
    "    # print(\"Action Batch Size: \", action_batch.size())\n",
    "    # print(\"Action Batch Device: \", action_batch.device)\n",
    "    # use the policy network to predict the Q values of each state in batch\n",
    "    # We compare the predicted Q values with the Q values obtained from the Bellman equation, to determine the loss\n",
    "    state_action_values = policy_net(state_batch).gather(1, action_batch)\n",
    "    \n",
    "    next_state_values = torch.zeros(BATCH_SIZE, device=device)\n",
    "    \n",
    "    with torch.no_grad():\n",
    "        # use the target net to generate the next state values\n",
    "        # these are used as input into the Bellman equation\n",
    "        next_state_values[non_final_mask] = target_net(non_final_next_states).max(1).values\n",
    "    \n",
    "    # Bellman equation\n",
    "    expected_state_action_values = (next_state_values * GAMMA) + reward_batch\n",
    "\n",
    "    criterion = loss_func()\n",
    "    loss = criterion(state_action_values, expected_state_action_values.unsqueeze(1))\n",
    "    \n",
    "    optimizer.zero_grad()\n",
    "    loss.backward()\n",
    "    \n",
    "    #gradient clipping\n",
    "    # prevents exploding gradients\n",
    "    torch.nn.utils.clip_grad_norm_(policy_net.parameters(), 100)\n",
    "    \n",
    "    optimizer.step()"
   ]
  },
  {
   "cell_type": "code",
   "execution_count": 9,
   "metadata": {},
   "outputs": [],
   "source": [
    "def custom_reward(state):\n",
    "    \"\"\" \n",
    "    Custom reward function for CartPole-v1\n",
    "    \n",
    "    By default, reward is 1 for each step taken. When sing default reward function,\n",
    "    my agent picked up the habit of racing to the right edge of the screen which ended\n",
    "    training sessions (see models/swing_to_the_right.pth). I created this modified reward function\n",
    "    which penalizes the model from moving too far from the origin and also included an additional penalty\n",
    "    for when the pole exceeds 10 degrees from the vertical axis in either direction.\n",
    "    \"\"\"\n",
    "\n",
    "    x, x_dot, theta, theta_dot = state \n",
    "    \n",
    "    pole_penalty = abs(theta)\n",
    "    cart_penalty = abs(x)\n",
    "    reward = 1 - (pole_penalty*0.5 + cart_penalty*0.1)\n",
    "    \n",
    "    return reward"
   ]
  },
  {
   "cell_type": "code",
   "execution_count": 10,
   "metadata": {},
   "outputs": [],
   "source": [
    "def training_loop(verbose=True, num_episodes=100, loss_function=nn.SmoothL1Loss):\n",
    "    if verbose:\n",
    "        print(\"Training model with following parameters:\")\n",
    "        print(f\"Batch size: {BATCH_SIZE}\")\n",
    "        print(f\"Gamma: {GAMMA}\")\n",
    "        print(f\"Learning rate: {LR}\")\n",
    "        print(f\"Target update: {TARGET_UPDATE}\")\n",
    "        print(f\"Replay Memory capacity: {memory.capacity}\")\n",
    "        print(f\"Number of episodes: {num_episodes}\")\n",
    "        print(f\"EPS_Decay: {EPS_DECAY}\")\n",
    "        print(f\"Running on device: {device}\")\n",
    "\n",
    "    scores = []\n",
    "    for i_episode in range(1, num_episodes+1):\n",
    "        if verbose and i_episode % (num_episodes / 10) == 0:\n",
    "            print(f\"{i_episode*100 / num_episodes}% complete\")\n",
    "        state, _ = env.reset()\n",
    "        state = torch.tensor(state, dtype=torch.float32, device=device).unsqueeze(0)\n",
    "\n",
    "        \n",
    "        \n",
    "        count = 0\n",
    "        while True:\n",
    "            action = select_action(state)\n",
    "            next_state, reward, terminated , truncated, _ = env.step(action.item())\n",
    "            done = terminated or truncated\n",
    "            # x, _, _ , _ = state.values()\n",
    "            # print(x)\n",
    "            # print(next_state)\n",
    "            # print(reward)\n",
    "            reward = custom_reward(next_state)\n",
    "            # print(reward)\n",
    "            if terminated:\n",
    "                next_state = None\n",
    "            else:\n",
    "                next_state = torch.tensor(next_state, dtype=torch.float32, device=device).unsqueeze(0)\n",
    "            \n",
    "            reward = torch.tensor([reward], dtype=torch.float32, device=device)\n",
    "            \n",
    "            memory.push(state, action, next_state, reward)\n",
    "            \n",
    "            state = next_state    \n",
    "\n",
    "            optimize_model(loss_function)\n",
    "\n",
    "\n",
    "            target_net_state_dict = target_net.state_dict()\n",
    "            policy_net_state_dict = policy_net.state_dict()\n",
    "            for key in policy_net_state_dict:\n",
    "                # soft updates of target network parameters\n",
    "                # originally used hard updates, but soft updates performed much better\n",
    "                target_net_state_dict[key] = policy_net_state_dict[key]*TAU + target_net_state_dict[key]*(1-TAU)\n",
    "            target_net.load_state_dict(target_net_state_dict)\n",
    "\n",
    "            if done:\n",
    "                scores.append(t+1)\n",
    "                break\n",
    "            count += 1\n",
    "\n",
    "        \n",
    "    \n",
    "    torch.save(policy_net.state_dict(), \"model.pth\")\n",
    "    print(\"Model Saved\")\n",
    "    return scores\n",
    "        "
   ]
  },
  {
   "cell_type": "code",
   "execution_count": 11,
   "metadata": {},
   "outputs": [
    {
     "name": "stdout",
     "output_type": "stream",
     "text": [
      "Training model with following parameters:\n",
      "Batch size: 128\n",
      "Gamma: 0.99\n",
      "Learning rate: 0.0001\n",
      "Target update: 10\n",
      "Replay Memory capacity: 10000\n",
      "Number of episodes: 350\n",
      "EPS_Decay: 1000\n",
      "Running on device: mps\n",
      "10.0% complete\n",
      "20.0% complete\n",
      "30.0% complete\n",
      "40.0% complete\n",
      "50.0% complete\n",
      "60.0% complete\n",
      "70.0% complete\n",
      "80.0% complete\n",
      "90.0% complete\n",
      "100.0% complete\n",
      "Model Saved\n"
     ]
    }
   ],
   "source": [
    "scores = training_loop(num_episodes=num_episodes, loss_function=nn.SmoothL1Loss)"
   ]
  },
  {
   "cell_type": "code",
   "execution_count": 12,
   "metadata": {},
   "outputs": [
    {
     "data": {
      "application/vnd.plotly.v1+json": {
       "config": {
        "plotlyServerURL": "https://plot.ly"
       },
       "data": [
        {
         "hovertemplate": "Episode=%{x}<br>Score=%{y}<extra></extra>",
         "legendgroup": "",
         "marker": {
          "color": "#636efa",
          "symbol": "circle"
         },
         "mode": "markers",
         "name": "",
         "orientation": "v",
         "showlegend": false,
         "type": "scatter",
         "x": {
          "bdata": "AAABAAIAAwAEAAUABgAHAAgACQAKAAsADAANAA4ADwAQABEAEgATABQAFQAWABcAGAAZABoAGwAcAB0AHgAfACAAIQAiACMAJAAlACYAJwAoACkAKgArACwALQAuAC8AMAAxADIAMwA0ADUANgA3ADgAOQA6ADsAPAA9AD4APwBAAEEAQgBDAEQARQBGAEcASABJAEoASwBMAE0ATgBPAFAAUQBSAFMAVABVAFYAVwBYAFkAWgBbAFwAXQBeAF8AYABhAGIAYwBkAGUAZgBnAGgAaQBqAGsAbABtAG4AbwBwAHEAcgBzAHQAdQB2AHcAeAB5AHoAewB8AH0AfgB/AIAAgQCCAIMAhACFAIYAhwCIAIkAigCLAIwAjQCOAI8AkACRAJIAkwCUAJUAlgCXAJgAmQCaAJsAnACdAJ4AnwCgAKEAogCjAKQApQCmAKcAqACpAKoAqwCsAK0ArgCvALAAsQCyALMAtAC1ALYAtwC4ALkAugC7ALwAvQC+AL8AwADBAMIAwwDEAMUAxgDHAMgAyQDKAMsAzADNAM4AzwDQANEA0gDTANQA1QDWANcA2ADZANoA2wDcAN0A3gDfAOAA4QDiAOMA5ADlAOYA5wDoAOkA6gDrAOwA7QDuAO8A8ADxAPIA8wD0APUA9gD3APgA+QD6APsA/AD9AP4A/wAAAQEBAgEDAQQBBQEGAQcBCAEJAQoBCwEMAQ0BDgEPARABEQESARMBFAEVARYBFwEYARkBGgEbARwBHQEeAR8BIAEhASIBIwEkASUBJgEnASgBKQEqASsBLAEtAS4BLwEwATEBMgEzATQBNQE2ATcBOAE5AToBOwE8AT0BPgE/AUABQQFCAUMBRAFFAUYBRwFIAUkBSgFLAUwBTQFOAU8BUAFRAVIBUwFUAVUBVgFXAVgBWQFaAVsBXAFdAQ==",
          "dtype": "i2"
         },
         "xaxis": "x",
         "y": {
          "bdata": "HQANABgAEQANACMAFAAKAAoACQARAAkACgALABEACwAMAA4ACwANAA0ADgAeABMACgAPABEACgANAAsADgAUAAwACgANAA4ADAAOAAkADgAKAAoAEAALAAwACgANAAkADAALAAwACQAOAA0ACQAJAAsACwAJAAoACgAPAAwAEQALABAADwALAAgADAAMAAoACgAQAAoADAAMAA4ADgAMABAADQALABMADQAZABAACwAQABMADgALAA8AEQATAA4ADwARABMADwAUABgAEwBjAH4AcQCoALEAyACmAPoA3AAPATUBHwGvAL0AbgGmAMkAxwBnAZAAsACvAPMA0AC8AOYAxAAMAfkAwQDBAA8BqQCwAKkAlgCTALIAzgCvAKIAtgCgAKMA8gCrALUArwCWANAAogCTAMIApwC0AL4A3wDAAOMA1wCkALkA2wCrAKEAugCzAJQAywCzAKsAlAC3AKwApgDpAJIArwCxAJ8AnQC3AOQA4gClALoArgC6AL8AuACuAMYA4gDDAH0AywDVAP0AiQDOAAoBzgCAANYAuACzAKUAqwDHALsAvQDNAKkAFgGnAJEA2wC5ALUA0gDOANkAsgDNANMA2wCHAN0AswD1AL8A6ACOAIQAygDSAM0A9AD3AOgA6AAYAfoADwEHAZIAmwA3AUABlACeAaYA9AGKAPQB9AH0Ab0A9AHwAK8AiwG+ACoB9AFFAQEB9AH0AfQB9AH0AfQB9AH0AfQB9AH0AfQB9AH0AfQB9AH0AfQB9AH0AfQB9AH0AfQB9AH0AfQB9AH0AfQB9AH0AfQB9AH0AfQB9AH0AfQB9AH0AfQB9AH0AfQB9AH0AfQB9AH0AfQB9AH0AfQB9AH0AfQB9AH0AfQB9AH0AfQB9AH0AfQB9AH0AfQB9AH0AfQB9AH0AfQB9AH0AfQB9AH0AQ==",
          "dtype": "i2"
         },
         "yaxis": "y"
        },
        {
         "hovertemplate": "<b>OLS trendline</b><br>Score = 1.63315 * Episode + -65.9254<br>R<sup>2</sup>=0.821730<br><br>Episode=%{x}<br>Score=%{y} <b>(trend)</b><extra></extra>",
         "legendgroup": "",
         "marker": {
          "color": "#636efa",
          "symbol": "circle"
         },
         "mode": "lines",
         "name": "",
         "showlegend": false,
         "type": "scatter",
         "x": {
          "bdata": "AAABAAIAAwAEAAUABgAHAAgACQAKAAsADAANAA4ADwAQABEAEgATABQAFQAWABcAGAAZABoAGwAcAB0AHgAfACAAIQAiACMAJAAlACYAJwAoACkAKgArACwALQAuAC8AMAAxADIAMwA0ADUANgA3ADgAOQA6ADsAPAA9AD4APwBAAEEAQgBDAEQARQBGAEcASABJAEoASwBMAE0ATgBPAFAAUQBSAFMAVABVAFYAVwBYAFkAWgBbAFwAXQBeAF8AYABhAGIAYwBkAGUAZgBnAGgAaQBqAGsAbABtAG4AbwBwAHEAcgBzAHQAdQB2AHcAeAB5AHoAewB8AH0AfgB/AIAAgQCCAIMAhACFAIYAhwCIAIkAigCLAIwAjQCOAI8AkACRAJIAkwCUAJUAlgCXAJgAmQCaAJsAnACdAJ4AnwCgAKEAogCjAKQApQCmAKcAqACpAKoAqwCsAK0ArgCvALAAsQCyALMAtAC1ALYAtwC4ALkAugC7ALwAvQC+AL8AwADBAMIAwwDEAMUAxgDHAMgAyQDKAMsAzADNAM4AzwDQANEA0gDTANQA1QDWANcA2ADZANoA2wDcAN0A3gDfAOAA4QDiAOMA5ADlAOYA5wDoAOkA6gDrAOwA7QDuAO8A8ADxAPIA8wD0APUA9gD3APgA+QD6APsA/AD9AP4A/wAAAQEBAgEDAQQBBQEGAQcBCAEJAQoBCwEMAQ0BDgEPARABEQESARMBFAEVARYBFwEYARkBGgEbARwBHQEeAR8BIAEhASIBIwEkASUBJgEnASgBKQEqASsBLAEtAS4BLwEwATEBMgEzATQBNQE2ATcBOAE5AToBOwE8AT0BPgE/AUABQQFCAUMBRAFFAUYBRwFIAUkBSgFLAUwBTQFOAU8BUAFRAVIBUwFUAVUBVgFXAVgBWQFaAVsBXAFdAQ==",
          "dtype": "i2"
         },
         "xaxis": "x",
         "y": {
          "bdata": "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",
          "dtype": "f8"
         },
         "yaxis": "y"
        }
       ],
       "layout": {
        "legend": {
         "tracegroupgap": 0
        },
        "template": {
         "data": {
          "bar": [
           {
            "error_x": {
             "color": "#2a3f5f"
            },
            "error_y": {
             "color": "#2a3f5f"
            },
            "marker": {
             "line": {
              "color": "#E5ECF6",
              "width": 0.5
             },
             "pattern": {
              "fillmode": "overlay",
              "size": 10,
              "solidity": 0.2
             }
            },
            "type": "bar"
           }
          ],
          "barpolar": [
           {
            "marker": {
             "line": {
              "color": "#E5ECF6",
              "width": 0.5
             },
             "pattern": {
              "fillmode": "overlay",
              "size": 10,
              "solidity": 0.2
             }
            },
            "type": "barpolar"
           }
          ],
          "carpet": [
           {
            "aaxis": {
             "endlinecolor": "#2a3f5f",
             "gridcolor": "white",
             "linecolor": "white",
             "minorgridcolor": "white",
             "startlinecolor": "#2a3f5f"
            },
            "baxis": {
             "endlinecolor": "#2a3f5f",
             "gridcolor": "white",
             "linecolor": "white",
             "minorgridcolor": "white",
             "startlinecolor": "#2a3f5f"
            },
            "type": "carpet"
           }
          ],
          "choropleth": [
           {
            "colorbar": {
             "outlinewidth": 0,
             "ticks": ""
            },
            "type": "choropleth"
           }
          ],
          "contour": [
           {
            "colorbar": {
             "outlinewidth": 0,
             "ticks": ""
            },
            "colorscale": [
             [
              0,
              "#0d0887"
             ],
             [
              0.1111111111111111,
              "#46039f"
             ],
             [
              0.2222222222222222,
              "#7201a8"
             ],
             [
              0.3333333333333333,
              "#9c179e"
             ],
             [
              0.4444444444444444,
              "#bd3786"
             ],
             [
              0.5555555555555556,
              "#d8576b"
             ],
             [
              0.6666666666666666,
              "#ed7953"
             ],
             [
              0.7777777777777778,
              "#fb9f3a"
             ],
             [
              0.8888888888888888,
              "#fdca26"
             ],
             [
              1,
              "#f0f921"
             ]
            ],
            "type": "contour"
           }
          ],
          "contourcarpet": [
           {
            "colorbar": {
             "outlinewidth": 0,
             "ticks": ""
            },
            "type": "contourcarpet"
           }
          ],
          "heatmap": [
           {
            "colorbar": {
             "outlinewidth": 0,
             "ticks": ""
            },
            "colorscale": [
             [
              0,
              "#0d0887"
             ],
             [
              0.1111111111111111,
              "#46039f"
             ],
             [
              0.2222222222222222,
              "#7201a8"
             ],
             [
              0.3333333333333333,
              "#9c179e"
             ],
             [
              0.4444444444444444,
              "#bd3786"
             ],
             [
              0.5555555555555556,
              "#d8576b"
             ],
             [
              0.6666666666666666,
              "#ed7953"
             ],
             [
              0.7777777777777778,
              "#fb9f3a"
             ],
             [
              0.8888888888888888,
              "#fdca26"
             ],
             [
              1,
              "#f0f921"
             ]
            ],
            "type": "heatmap"
           }
          ],
          "histogram": [
           {
            "marker": {
             "pattern": {
              "fillmode": "overlay",
              "size": 10,
              "solidity": 0.2
             }
            },
            "type": "histogram"
           }
          ],
          "histogram2d": [
           {
            "colorbar": {
             "outlinewidth": 0,
             "ticks": ""
            },
            "colorscale": [
             [
              0,
              "#0d0887"
             ],
             [
              0.1111111111111111,
              "#46039f"
             ],
             [
              0.2222222222222222,
              "#7201a8"
             ],
             [
              0.3333333333333333,
              "#9c179e"
             ],
             [
              0.4444444444444444,
              "#bd3786"
             ],
             [
              0.5555555555555556,
              "#d8576b"
             ],
             [
              0.6666666666666666,
              "#ed7953"
             ],
             [
              0.7777777777777778,
              "#fb9f3a"
             ],
             [
              0.8888888888888888,
              "#fdca26"
             ],
             [
              1,
              "#f0f921"
             ]
            ],
            "type": "histogram2d"
           }
          ],
          "histogram2dcontour": [
           {
            "colorbar": {
             "outlinewidth": 0,
             "ticks": ""
            },
            "colorscale": [
             [
              0,
              "#0d0887"
             ],
             [
              0.1111111111111111,
              "#46039f"
             ],
             [
              0.2222222222222222,
              "#7201a8"
             ],
             [
              0.3333333333333333,
              "#9c179e"
             ],
             [
              0.4444444444444444,
              "#bd3786"
             ],
             [
              0.5555555555555556,
              "#d8576b"
             ],
             [
              0.6666666666666666,
              "#ed7953"
             ],
             [
              0.7777777777777778,
              "#fb9f3a"
             ],
             [
              0.8888888888888888,
              "#fdca26"
             ],
             [
              1,
              "#f0f921"
             ]
            ],
            "type": "histogram2dcontour"
           }
          ],
          "mesh3d": [
           {
            "colorbar": {
             "outlinewidth": 0,
             "ticks": ""
            },
            "type": "mesh3d"
           }
          ],
          "parcoords": [
           {
            "line": {
             "colorbar": {
              "outlinewidth": 0,
              "ticks": ""
             }
            },
            "type": "parcoords"
           }
          ],
          "pie": [
           {
            "automargin": true,
            "type": "pie"
           }
          ],
          "scatter": [
           {
            "fillpattern": {
             "fillmode": "overlay",
             "size": 10,
             "solidity": 0.2
            },
            "type": "scatter"
           }
          ],
          "scatter3d": [
           {
            "line": {
             "colorbar": {
              "outlinewidth": 0,
              "ticks": ""
             }
            },
            "marker": {
             "colorbar": {
              "outlinewidth": 0,
              "ticks": ""
             }
            },
            "type": "scatter3d"
           }
          ],
          "scattercarpet": [
           {
            "marker": {
             "colorbar": {
              "outlinewidth": 0,
              "ticks": ""
             }
            },
            "type": "scattercarpet"
           }
          ],
          "scattergeo": [
           {
            "marker": {
             "colorbar": {
              "outlinewidth": 0,
              "ticks": ""
             }
            },
            "type": "scattergeo"
           }
          ],
          "scattergl": [
           {
            "marker": {
             "colorbar": {
              "outlinewidth": 0,
              "ticks": ""
             }
            },
            "type": "scattergl"
           }
          ],
          "scattermap": [
           {
            "marker": {
             "colorbar": {
              "outlinewidth": 0,
              "ticks": ""
             }
            },
            "type": "scattermap"
           }
          ],
          "scattermapbox": [
           {
            "marker": {
             "colorbar": {
              "outlinewidth": 0,
              "ticks": ""
             }
            },
            "type": "scattermapbox"
           }
          ],
          "scatterpolar": [
           {
            "marker": {
             "colorbar": {
              "outlinewidth": 0,
              "ticks": ""
             }
            },
            "type": "scatterpolar"
           }
          ],
          "scatterpolargl": [
           {
            "marker": {
             "colorbar": {
              "outlinewidth": 0,
              "ticks": ""
             }
            },
            "type": "scatterpolargl"
           }
          ],
          "scatterternary": [
           {
            "marker": {
             "colorbar": {
              "outlinewidth": 0,
              "ticks": ""
             }
            },
            "type": "scatterternary"
           }
          ],
          "surface": [
           {
            "colorbar": {
             "outlinewidth": 0,
             "ticks": ""
            },
            "colorscale": [
             [
              0,
              "#0d0887"
             ],
             [
              0.1111111111111111,
              "#46039f"
             ],
             [
              0.2222222222222222,
              "#7201a8"
             ],
             [
              0.3333333333333333,
              "#9c179e"
             ],
             [
              0.4444444444444444,
              "#bd3786"
             ],
             [
              0.5555555555555556,
              "#d8576b"
             ],
             [
              0.6666666666666666,
              "#ed7953"
             ],
             [
              0.7777777777777778,
              "#fb9f3a"
             ],
             [
              0.8888888888888888,
              "#fdca26"
             ],
             [
              1,
              "#f0f921"
             ]
            ],
            "type": "surface"
           }
          ],
          "table": [
           {
            "cells": {
             "fill": {
              "color": "#EBF0F8"
             },
             "line": {
              "color": "white"
             }
            },
            "header": {
             "fill": {
              "color": "#C8D4E3"
             },
             "line": {
              "color": "white"
             }
            },
            "type": "table"
           }
          ]
         },
         "layout": {
          "annotationdefaults": {
           "arrowcolor": "#2a3f5f",
           "arrowhead": 0,
           "arrowwidth": 1
          },
          "autotypenumbers": "strict",
          "coloraxis": {
           "colorbar": {
            "outlinewidth": 0,
            "ticks": ""
           }
          },
          "colorscale": {
           "diverging": [
            [
             0,
             "#8e0152"
            ],
            [
             0.1,
             "#c51b7d"
            ],
            [
             0.2,
             "#de77ae"
            ],
            [
             0.3,
             "#f1b6da"
            ],
            [
             0.4,
             "#fde0ef"
            ],
            [
             0.5,
             "#f7f7f7"
            ],
            [
             0.6,
             "#e6f5d0"
            ],
            [
             0.7,
             "#b8e186"
            ],
            [
             0.8,
             "#7fbc41"
            ],
            [
             0.9,
             "#4d9221"
            ],
            [
             1,
             "#276419"
            ]
           ],
           "sequential": [
            [
             0,
             "#0d0887"
            ],
            [
             0.1111111111111111,
             "#46039f"
            ],
            [
             0.2222222222222222,
             "#7201a8"
            ],
            [
             0.3333333333333333,
             "#9c179e"
            ],
            [
             0.4444444444444444,
             "#bd3786"
            ],
            [
             0.5555555555555556,
             "#d8576b"
            ],
            [
             0.6666666666666666,
             "#ed7953"
            ],
            [
             0.7777777777777778,
             "#fb9f3a"
            ],
            [
             0.8888888888888888,
             "#fdca26"
            ],
            [
             1,
             "#f0f921"
            ]
           ],
           "sequentialminus": [
            [
             0,
             "#0d0887"
            ],
            [
             0.1111111111111111,
             "#46039f"
            ],
            [
             0.2222222222222222,
             "#7201a8"
            ],
            [
             0.3333333333333333,
             "#9c179e"
            ],
            [
             0.4444444444444444,
             "#bd3786"
            ],
            [
             0.5555555555555556,
             "#d8576b"
            ],
            [
             0.6666666666666666,
             "#ed7953"
            ],
            [
             0.7777777777777778,
             "#fb9f3a"
            ],
            [
             0.8888888888888888,
             "#fdca26"
            ],
            [
             1,
             "#f0f921"
            ]
           ]
          },
          "colorway": [
           "#636efa",
           "#EF553B",
           "#00cc96",
           "#ab63fa",
           "#FFA15A",
           "#19d3f3",
           "#FF6692",
           "#B6E880",
           "#FF97FF",
           "#FECB52"
          ],
          "font": {
           "color": "#2a3f5f"
          },
          "geo": {
           "bgcolor": "white",
           "lakecolor": "white",
           "landcolor": "#E5ECF6",
           "showlakes": true,
           "showland": true,
           "subunitcolor": "white"
          },
          "hoverlabel": {
           "align": "left"
          },
          "hovermode": "closest",
          "mapbox": {
           "style": "light"
          },
          "paper_bgcolor": "white",
          "plot_bgcolor": "#E5ECF6",
          "polar": {
           "angularaxis": {
            "gridcolor": "white",
            "linecolor": "white",
            "ticks": ""
           },
           "bgcolor": "#E5ECF6",
           "radialaxis": {
            "gridcolor": "white",
            "linecolor": "white",
            "ticks": ""
           }
          },
          "scene": {
           "xaxis": {
            "backgroundcolor": "#E5ECF6",
            "gridcolor": "white",
            "gridwidth": 2,
            "linecolor": "white",
            "showbackground": true,
            "ticks": "",
            "zerolinecolor": "white"
           },
           "yaxis": {
            "backgroundcolor": "#E5ECF6",
            "gridcolor": "white",
            "gridwidth": 2,
            "linecolor": "white",
            "showbackground": true,
            "ticks": "",
            "zerolinecolor": "white"
           },
           "zaxis": {
            "backgroundcolor": "#E5ECF6",
            "gridcolor": "white",
            "gridwidth": 2,
            "linecolor": "white",
            "showbackground": true,
            "ticks": "",
            "zerolinecolor": "white"
           }
          },
          "shapedefaults": {
           "line": {
            "color": "#2a3f5f"
           }
          },
          "ternary": {
           "aaxis": {
            "gridcolor": "white",
            "linecolor": "white",
            "ticks": ""
           },
           "baxis": {
            "gridcolor": "white",
            "linecolor": "white",
            "ticks": ""
           },
           "bgcolor": "#E5ECF6",
           "caxis": {
            "gridcolor": "white",
            "linecolor": "white",
            "ticks": ""
           }
          },
          "title": {
           "x": 0.05
          },
          "xaxis": {
           "automargin": true,
           "gridcolor": "white",
           "linecolor": "white",
           "ticks": "",
           "title": {
            "standoff": 15
           },
           "zerolinecolor": "white",
           "zerolinewidth": 2
          },
          "yaxis": {
           "automargin": true,
           "gridcolor": "white",
           "linecolor": "white",
           "ticks": "",
           "title": {
            "standoff": 15
           },
           "zerolinecolor": "white",
           "zerolinewidth": 2
          }
         }
        },
        "title": {
         "text": "Score per Episode"
        },
        "xaxis": {
         "anchor": "y",
         "domain": [
          0,
          1
         ],
         "title": {
          "text": "Episode"
         }
        },
        "yaxis": {
         "anchor": "x",
         "domain": [
          0,
          1
         ],
         "title": {
          "text": "Score"
         }
        }
       }
      }
     },
     "metadata": {},
     "output_type": "display_data"
    }
   ],
   "source": [
    "df = pd.DataFrame(scores, columns=[\"Score\"])\n",
    "df[\"Episode\"] = df.index\n",
    "fig = px.scatter(df, x=\"Episode\", y=\"Score\", trendline='ols', title=\"Score per Episode\")\n",
    "fig.show()"
   ]
  },
  {
   "cell_type": "code",
   "execution_count": null,
   "metadata": {},
   "outputs": [],
   "source": []
  }
 ],
 "metadata": {
  "kernelspec": {
   "display_name": "env",
   "language": "python",
   "name": "python3"
  },
  "language_info": {
   "codemirror_mode": {
    "name": "ipython",
    "version": 3
   },
   "file_extension": ".py",
   "mimetype": "text/x-python",
   "name": "python",
   "nbconvert_exporter": "python",
   "pygments_lexer": "ipython3",
   "version": "3.11.5"
  }
 },
 "nbformat": 4,
 "nbformat_minor": 2
}
